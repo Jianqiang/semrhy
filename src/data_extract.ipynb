{
 "cells": [
  {
   "cell_type": "markdown",
   "metadata": {},
   "source": [
    "#Data Extraction for SEMRYE project\n",
    "\n",
    "Extract word pairs of rhymes in poems. Current for the collections of Shakespeare and Housman available in https://github.com/sravanareddy/rhymedata, courtesy of Sravana Reddy.\n",
    "\n",
    "\n",
    "## Format of output\n",
    "**(word1, word2, rhyme pattern, rhyme letter, author)**\n",
    "\n",
    "For example,\n",
    "\n",
    "**Input:\n",
    "\n",
    ">TITLE A Lover's Complaint\n",
    "\n",
    ">RHYME a b a b b c c\n",
    "\n",
    ">From off a hill whose concave womb reworded\n",
    "\n",
    ">A plaintful story from a sistering vale,\n",
    "\n",
    ">My spirits to attend this double voice reworded,\n",
    "\n",
    ">And down I laid to list the sad-tuned tale;\n",
    "\n",
    ">Ere long espied a fickle maid full pale, \n",
    "\n",
    ">Tearing of papers, breaking rings a-twain,\n",
    "\n",
    ">Storming her world with sorrow's wind and rain.\n",
    "\n",
    "For the full scheme of the data, see: https://github.com/sravanareddy/rhymedata\n",
    "\n",
    "** Output:\n",
    "\n",
    "*(reworded, reworded, ababbcc, a, Shakespeare )*\n",
    "*(vale, tale, ababbcc, b, Shakespeare )*\n",
    "\n",
    "...\n",
    "\n",
    "\n",
    "Note a special scheme used in the original data is \n",
    "\n",
    "> Sometimes, we use a shorthand for the rhyme scheme, like \n",
    "\n",
    ">RHYME a a *\n",
    "\n",
    ">This denotes the rhyme scheme aabbccdd...\n",
    "\n",
    "We elaborate such patterns in this case.\n",
    "\n"
   ]
  },
  {
   "cell_type": "code",
   "execution_count": null,
   "metadata": {
    "collapsed": true
   },
   "outputs": [],
   "source": []
  },
  {
   "cell_type": "code",
   "execution_count": null,
   "metadata": {
    "collapsed": true
   },
   "outputs": [],
   "source": []
  }
 ],
 "metadata": {
  "kernelspec": {
   "display_name": "Python 2",
   "language": "python",
   "name": "python2"
  },
  "language_info": {
   "codemirror_mode": {
    "name": "ipython",
    "version": 2
   },
   "file_extension": ".py",
   "mimetype": "text/x-python",
   "name": "python",
   "nbconvert_exporter": "python",
   "pygments_lexer": "ipython2",
   "version": "2.7.10"
  }
 },
 "nbformat": 4,
 "nbformat_minor": 0
}
