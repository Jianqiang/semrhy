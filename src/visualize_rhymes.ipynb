{
 "cells": [
  {
   "cell_type": "code",
   "execution_count": 113,
   "metadata": {
    "collapsed": false
   },
   "outputs": [],
   "source": [
    "import numpy as np\n",
    "import sklearn\n",
    "from sklearn.manifold import TSNE\n",
    "import cPickle as pickle\n",
    "\n",
    "import plotly\n",
    "plotly.__version__\n",
    "import plotly.plotly as py\n",
    "import plotly.graph_objs as go"
   ]
  },
  {
   "cell_type": "code",
   "execution_count": 114,
   "metadata": {
    "collapsed": false
   },
   "outputs": [],
   "source": [
    "# load the word pairs with representations\n",
    "word_pairs_housman_glove = pickle.load(open('../working_data/housman.pair.glove.pkl', 'rb'))\n",
    "word_pairs_shakespeare_glove = pickle.load(open('../working_data/shakes.pair.glove.pkl', 'rb'))"
   ]
  },
  {
   "cell_type": "code",
   "execution_count": 115,
   "metadata": {
    "collapsed": false
   },
   "outputs": [
    {
     "name": "stdout",
     "output_type": "stream",
     "text": [
      "==> Running TSNE...\n",
      "[t-SNE] Computing pairwise distances...\n",
      "[t-SNE] Computing 91 nearest neighbors...\n",
      "[t-SNE] Computed conditional probabilities for sample 1000 / 4554\n",
      "[t-SNE] Computed conditional probabilities for sample 2000 / 4554\n",
      "[t-SNE] Computed conditional probabilities for sample 3000 / 4554\n",
      "[t-SNE] Computed conditional probabilities for sample 4000 / 4554\n",
      "[t-SNE] Computed conditional probabilities for sample 4554 / 4554\n",
      "[t-SNE] Mean sigma: 2.934353\n",
      "[t-SNE] Iteration 25: error = 1.6732621, gradient norm = 0.0086232\n",
      "[t-SNE] Iteration 50: error = 1.6279033, gradient norm = 0.0057335\n",
      "[t-SNE] Iteration 75: error = 1.4068370, gradient norm = 0.0024847\n",
      "[t-SNE] Iteration 100: error = 1.3487746, gradient norm = 0.0022395\n",
      "[t-SNE] Error after 100 iterations with early exaggeration: 1.348775\n",
      "[t-SNE] Iteration 125: error = 1.2403316, gradient norm = 0.0018607\n",
      "[t-SNE] Iteration 150: error = 1.2028494, gradient norm = 0.0017208\n",
      "[t-SNE] Iteration 175: error = 1.1934843, gradient norm = 0.0016908\n",
      "[t-SNE] Iteration 200: error = 1.1905553, gradient norm = 0.0016907\n",
      "[t-SNE] Iteration 225: error = 1.1900297, gradient norm = 0.0016765\n",
      "[t-SNE] Iteration 250: error = 1.1899703, gradient norm = 0.0016754\n",
      "[t-SNE] Iteration 275: error = 1.1901084, gradient norm = 0.0016731\n",
      "[t-SNE] Iteration 300: error = 1.1899585, gradient norm = 0.0017015\n",
      "[t-SNE] Iteration 325: error = 1.1896553, gradient norm = 0.0017713\n",
      "[t-SNE] Iteration 350: error = 1.1896818, gradient norm = 0.0016872\n",
      "[t-SNE] Iteration 375: error = 1.1899111, gradient norm = 0.0016836\n",
      "[t-SNE] Iteration 375: did not make any progress during the last 30 episodes. Finished.\n",
      "[t-SNE] Error after 375 iterations: 1.189911\n",
      "==> done.\n"
     ]
    }
   ],
   "source": [
    "# create a list of words and a np.array of representations from the word tuples\n",
    "def format_pairs(word_pairs):\n",
    "    representations = []\n",
    "    labels = []\n",
    "    for wp_tuple in word_pairs:\n",
    "        w1 = wp_tuple[0]\n",
    "        w2 = wp_tuple[1]\n",
    "        w1_repr = np.asmatrix(wp_tuple[7])\n",
    "        w2_repr = np.asmatrix(wp_tuple[8])\n",
    "        w1w2_repr = np.concatenate((w1_repr, w2_repr), axis=1)\n",
    "        representations.append(w1w2_repr)\n",
    "        labels.append(w1 + \" - \" + w2)\n",
    "        \n",
    "    np_representations = np.stack(representations)\n",
    "    \n",
    "    return np_representations, labels\n",
    "\n",
    "# format the housman and shakespear tuples with glove representations\n",
    "housman_glove_repr, housman_glove_labels = format_pairs(word_pairs_housman_glove)\n",
    "shakespeare_glove_repr, shakespeare_glove_labels = format_pairs(word_pairs_shakespeare_glove)\n",
    "\n",
    "# concatenate all representations and run tsne\n",
    "all_repr = np.concatenate((housman_glove_repr, shakespeare_glove_repr), axis=0)\n",
    "model = TSNE(n_components=2, random_state=0, verbose=2)\n",
    "np.set_printoptions(suppress=True)\n",
    "print(\"==> Running TSNE...\")\n",
    "tsne_word_repr = model.fit_transform(all_repr) \n",
    "print(\"==> done.\")\n",
    "\n",
    "# pick out the housman from the shakespeare tsne representations\n",
    "housman_glove_repr_tsne = tsne_word_repr[:len(housman_glove_labels)]\n",
    "shakespeare_glove_repr_tsne = tsne_word_repr[len(housman_glove_labels):]"
   ]
  },
  {
   "cell_type": "code",
   "execution_count": 119,
   "metadata": {
    "collapsed": false
   },
   "outputs": [
    {
     "data": {
      "text/html": [
       "<iframe id=\"igraph\" scrolling=\"no\" style=\"border:none;\"seamless=\"seamless\" src=\"https://plot.ly/~IPython.Demo/10062.embed\" height=\"525px\" width=\"100%\"></iframe>"
      ],
      "text/plain": [
       "<plotly.tools.PlotlyDisplay object>"
      ]
     },
     "execution_count": 119,
     "metadata": {},
     "output_type": "execute_result"
    }
   ],
   "source": [
    "# Create a trace for the Housman examples\n",
    "trace_housman_glove = go.Scattergl(\n",
    "    x = housman_glove_repr_tsne[:,0],\n",
    "    y = housman_glove_repr_tsne[:,1],\n",
    "    mode = 'markers',\n",
    "    text = housman_glove_labels,\n",
    "    name = \"Housman (GloVe,semantic)\",\n",
    ")\n",
    "\n",
    "# Create a trace for the Shakespeare examples\n",
    "trace_shakespeare_glove = go.Scattergl(\n",
    "    x = shakespeare_glove_repr_tsne[:,0],\n",
    "    y = shakespeare_glove_repr_tsne[:,1],\n",
    "    mode = 'markers',\n",
    "    text = shakespeare_glove_labels,\n",
    "    name = \"Shakespeare (GloVe,semantic)\",\n",
    ")\n",
    "\n",
    "# plot words from both authors together\n",
    "data = [trace_housman_glove, trace_shakespeare_glove]\n",
    "py.iplot(data, filename='basic-scatter')\n"
   ]
  },
  {
   "cell_type": "code",
   "execution_count": 86,
   "metadata": {
    "collapsed": false
   },
   "outputs": [],
   "source": []
  },
  {
   "cell_type": "code",
   "execution_count": null,
   "metadata": {
    "collapsed": true
   },
   "outputs": [],
   "source": []
  }
 ],
 "metadata": {
  "kernelspec": {
   "display_name": "Python 2",
   "language": "python",
   "name": "python2"
  },
  "language_info": {
   "codemirror_mode": {
    "name": "ipython",
    "version": 2
   },
   "file_extension": ".py",
   "mimetype": "text/x-python",
   "name": "python",
   "nbconvert_exporter": "python",
   "pygments_lexer": "ipython2",
   "version": "2.7.11"
  }
 },
 "nbformat": 4,
 "nbformat_minor": 0
}
