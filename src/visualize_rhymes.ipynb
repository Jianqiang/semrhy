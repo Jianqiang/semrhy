{
 "cells": [
  {
   "cell_type": "code",
   "execution_count": 133,
   "metadata": {
    "collapsed": false
   },
   "outputs": [],
   "source": [
    "import numpy as np\n",
    "import sklearn\n",
    "from sklearn.manifold import TSNE\n",
    "import cPickle as pickle\n",
    "\n",
    "import plotly\n",
    "plotly.__version__\n",
    "import plotly.plotly as py\n",
    "import plotly.graph_objs as go\n",
    "# py.sign_in(\"IPython.Demo\", \"1fw3zw2o13\")\n",
    "# py.sign_in(\"DemoAccount\",\"lr1c37zw81\")\n",
    "import plotly.tools as tls\n",
    "credentials = tls.get_credentials_file()\n",
    "py.sign_in(credentials['username'], credentials['api_key'])"
   ]
  },
  {
   "cell_type": "code",
   "execution_count": 6,
   "metadata": {
    "collapsed": false
   },
   "outputs": [],
   "source": [
    "# load the word pairs with representations\n",
    "word_pairs_housman_glove = pickle.load(open('../working_data/housman.pair.glove.pkl', 'rb'))\n",
    "word_pairs_shakespeare_glove = pickle.load(open('../working_data/shakes.pair.glove.pkl', 'rb'))"
   ]
  },
  {
   "cell_type": "code",
   "execution_count": 69,
   "metadata": {
    "collapsed": false
   },
   "outputs": [],
   "source": [
    "# create a list of words and a np.array of representations from the word tuples\n",
    "def format_pairs(word_pairs, operation):\n",
    "    representations = []\n",
    "    labels = []\n",
    "    for wp_tuple in word_pairs:\n",
    "        w1 = wp_tuple[0]\n",
    "        w2 = wp_tuple[1]\n",
    "        w1_repr = np.asmatrix(wp_tuple[7])\n",
    "        w2_repr = np.asmatrix(wp_tuple[8])\n",
    "        w1w2_repr = None\n",
    "        if operation == 'add':\n",
    "            w1w2_repr = np.add(w1_repr, w2_repr)\n",
    "        elif operation == 'concat':\n",
    "            w1w2_repr = np.concatenate((w1_repr, w2_repr), axis=1)\n",
    "        else:\n",
    "            print(\"unknown operation\")\n",
    "        representations.append(w1w2_repr)\n",
    "        if operation == 'add':\n",
    "            labels.append(w1 + \" + \" + w2)\n",
    "        elif operation == 'concat':\n",
    "            labels.append(w1 + \" : \" + w2)\n",
    "        else:\n",
    "            print(\"unknown operation\")\n",
    "        \n",
    "    np_representations = np.stack(representations)\n",
    "    \n",
    "    return np_representations, labels\n",
    "\n",
    "# format the housman and shakespeare tuples with glove representations\n",
    "housman_glove_repr, housman_glove_labels = format_pairs(word_pairs_housman_glove, 'concat')\n",
    "shakespeare_glove_repr, shakespeare_glove_labels = format_pairs(word_pairs_shakespeare_glove, 'concat')"
   ]
  },
  {
   "cell_type": "code",
   "execution_count": 22,
   "metadata": {
    "collapsed": false
   },
   "outputs": [
    {
     "name": "stdout",
     "output_type": "stream",
     "text": [
      "Total words: 6928\n",
      "Total rhyme words: 2508\n",
      "Total non-rhyme words: 4420\n",
      "dressings - wherefore\n",
      "speech - bristly\n",
      "thoughts - citizen\n",
      "supper - bastions\n",
      "controlled - remission\n",
      "peers - knowledge\n",
      "lesson - digression\n",
      "vestal - perished\n",
      "north - impurity\n",
      "falchion - starry\n",
      "liker - healthful\n",
      "cinders - leaden\n",
      "valleys - grecian\n",
      "storming - withering\n",
      "falsely - large\n",
      "shall - advanced\n",
      "exclaims - forty\n",
      "alabaster - embittered\n",
      "sprinkled - planing\n",
      "spilt - venice\n",
      "(4554, 600)\n"
     ]
    }
   ],
   "source": [
    "# create a list of random word pairs, that do not appear in our training data\n",
    "from sets import Set\n",
    "import random\n",
    "\n",
    "\n",
    "shakespeare_allWords = pickle.load(open('../working_data/shakes.voc.glove.pkl'))\n",
    "housman_allWords = pickle.load(open('../working_data/housman.voc.glove.pkl'))\n",
    "\n",
    "all_words = Set()\n",
    "for w in shakespeare_allWords:\n",
    "    repr_dict[w[0]] = np.asmatrix(w[1])\n",
    "    \n",
    "for w in housman_allWords:\n",
    "    repr_dict[w[0]] = np.asmatrix(w[1])\n",
    "    \n",
    "all_words = Set(repr_dict.keys())\n",
    "print(\"Total words: \" + str(len(all_words)))\n",
    "\n",
    "def create_word_set(word_pairs, word_set):\n",
    "    for wp_tuple in word_pairs:\n",
    "        word_set.add(wp_tuple[0])\n",
    "        word_set.add(wp_tuple[1])\n",
    "    \n",
    "rhyme_words = Set()\n",
    "create_word_set(word_pairs_housman_glove, rhyme_words)\n",
    "create_word_set(word_pairs_shakespeare_glove, rhyme_words)\n",
    "print(\"Total rhyme words: \" + str(len(rhyme_words)))\n",
    "\n",
    "non_rhyme_words = all_words - rhyme_words\n",
    "print(\"Total non-rhyme words: \" + str(len(non_rhyme_words)))\n",
    "\n",
    "positiveNo = len(housman_glove_labels) + len(shakespeare_glove_labels)\n",
    "negativeNo = 0\n",
    "\n",
    "random_glove_repr_list = []\n",
    "random_glove_labels = []\n",
    "\n",
    "while negativeNo < positiveNo:\n",
    "    random_words = random.sample(non_rhyme_words, 2)\n",
    "    random_pair = ' - '.join(random_words)\n",
    "    in_housman = random_pair in housman_glove_labels\n",
    "    in_shakespeare = random_pair in shakespeare_glove_labels\n",
    "    if (not in_housman) and (not in_shakespeare):\n",
    "        random_glove_labels.append(random_pair)\n",
    "        random_repr = np.concatenate((repr_dict[random_words[0]], repr_dict[random_words[1]]), axis=1)\n",
    "        random_glove_repr_list.append(random_repr)\n",
    "        negativeNo = negativeNo + 1\n",
    "\n",
    "random_glove_repr = np.stack(random_glove_repr_list)\n",
    "\n",
    "for i in random_glove_labels[:20]:\n",
    "    print(i)\n",
    "print(random_glove_repr.shape)"
   ]
  },
  {
   "cell_type": "code",
   "execution_count": 23,
   "metadata": {
    "collapsed": false
   },
   "outputs": [
    {
     "name": "stdout",
     "output_type": "stream",
     "text": [
      "==> Running TSNE...\n",
      "[t-SNE] Computing pairwise distances...\n",
      "[t-SNE] Computing 91 nearest neighbors...\n",
      "[t-SNE] Computed conditional probabilities for sample 1000 / 9108\n",
      "[t-SNE] Computed conditional probabilities for sample 2000 / 9108\n",
      "[t-SNE] Computed conditional probabilities for sample 3000 / 9108\n",
      "[t-SNE] Computed conditional probabilities for sample 4000 / 9108\n",
      "[t-SNE] Computed conditional probabilities for sample 5000 / 9108\n",
      "[t-SNE] Computed conditional probabilities for sample 6000 / 9108\n",
      "[t-SNE] Computed conditional probabilities for sample 7000 / 9108\n",
      "[t-SNE] Computed conditional probabilities for sample 8000 / 9108\n",
      "[t-SNE] Computed conditional probabilities for sample 9000 / 9108\n",
      "[t-SNE] Computed conditional probabilities for sample 9108 / 9108\n",
      "[t-SNE] Mean sigma: 2.784947\n",
      "[t-SNE] Iteration 25: error = 1.3723714, gradient norm = 0.0012162\n",
      "[t-SNE] Iteration 50: error = 1.3709687, gradient norm = 0.0069180\n",
      "[t-SNE] Iteration 75: error = 1.3311120, gradient norm = 0.0025930\n",
      "[t-SNE] Iteration 100: error = 1.3180391, gradient norm = 0.0022832\n",
      "[t-SNE] Error after 100 iterations with early exaggeration: 1.318039\n",
      "[t-SNE] Iteration 125: error = 1.2903314, gradient norm = 0.0018205\n",
      "[t-SNE] Iteration 150: error = 1.2797472, gradient norm = 0.0017017\n",
      "[t-SNE] Iteration 175: error = 1.2769114, gradient norm = 0.0016781\n",
      "[t-SNE] Iteration 200: error = 1.2760925, gradient norm = 0.0016783\n",
      "[t-SNE] Iteration 225: error = 1.2758814, gradient norm = 0.0016775\n",
      "[t-SNE] Iteration 250: error = 1.2758266, gradient norm = 0.0016773\n",
      "[t-SNE] Iteration 275: error = 1.2758052, gradient norm = 0.0016759\n",
      "[t-SNE] Iteration 300: error = 1.2758052, gradient norm = 0.0016770\n",
      "[t-SNE] Iteration 325: error = 1.2758018, gradient norm = 0.0016758\n",
      "[t-SNE] Iteration 350: error = 1.2757987, gradient norm = 0.0016763\n",
      "[t-SNE] Iteration 375: error = 1.2758039, gradient norm = 0.0016770\n",
      "[t-SNE] Iteration 400: error = 1.2757998, gradient norm = 0.0016759\n",
      "[t-SNE] Iteration 400: did not make any progress during the last 30 episodes. Finished.\n",
      "[t-SNE] Error after 400 iterations: 1.275800\n",
      "==> done.\n"
     ]
    }
   ],
   "source": [
    "# concatenate all representations and run tsne\n",
    "all_repr = np.concatenate((housman_glove_repr, shakespeare_glove_repr, random_glove_repr), axis=0)\n",
    "model = TSNE(n_components=2, random_state=0, verbose=2)\n",
    "np.set_printoptions(suppress=True)\n",
    "print(\"==> Running TSNE...\")\n",
    "tsne_word_repr = model.fit_transform(all_repr) \n",
    "print(\"==> done.\")\n",
    "\n",
    "# pick out the housman from the shakespeare tsne representations\n",
    "housman_glove_repr_tsne = tsne_word_repr[:len(housman_glove_labels)]\n",
    "shakespeare_glove_repr_tsne = tsne_word_repr[len(housman_glove_labels):positiveNo]\n",
    "random_glove_repr_tsne = tsne_word_repr[positiveNo:]\n"
   ]
  },
  {
   "cell_type": "code",
   "execution_count": 125,
   "metadata": {
    "collapsed": false
   },
   "outputs": [],
   "source": [
    "# Create a trace for the Housman examples\n",
    "trace_housman_glove = go.Scattergl(\n",
    "    x = housman_glove_repr_tsne[:,0],\n",
    "    y = housman_glove_repr_tsne[:,1],\n",
    "    mode = 'markers',\n",
    "    marker = dict(\n",
    "        color = 'rgba(22, 96, 167, 0.8)',\n",
    "    ),      \n",
    "    text = housman_glove_labels,\n",
    "    name = \"Housman (GloVe,semantic)\",\n",
    ")\n",
    "\n",
    "# Create a trace for the Shakespeare examples\n",
    "trace_shakespeare_glove = go.Scattergl(\n",
    "    x = shakespeare_glove_repr_tsne[:,0],\n",
    "    y = shakespeare_glove_repr_tsne[:,1],\n",
    "    mode = 'markers',\n",
    "    marker = dict(\n",
    "        color = 'rgba(255, 106, 0, 0.8)',\n",
    "    ),  \n",
    "    text = shakespeare_glove_labels,\n",
    "    name = \"Shakespeare (GloVe,semantic)\",\n",
    ")"
   ]
  },
  {
   "cell_type": "code",
   "execution_count": 134,
   "metadata": {
    "collapsed": false
   },
   "outputs": [
    {
     "data": {
      "text/html": [
       "<iframe id=\"igraph\" scrolling=\"no\" style=\"border:none;\"seamless=\"seamless\" src=\"https://plot.ly/~corina.dima_tu/4.embed\" height=\"525px\" width=\"100%\"></iframe>"
      ],
      "text/plain": [
       "<plotly.tools.PlotlyDisplay object>"
      ]
     },
     "execution_count": 134,
     "metadata": {},
     "output_type": "execute_result"
    }
   ],
   "source": [
    "# plot words from both authors together\n",
    "data = [trace_housman_glove, trace_shakespeare_glove]\n",
    "layout = go.Layout(\n",
    "    title='Housman and Shakespeare rhyme pairs, concatenated representations',\n",
    ")\n",
    "fig = go.Figure(data=data, layout=layout)\n",
    "py.iplot(fig, filename='housman-shakespeare-rhymes-concat')\n"
   ]
  },
  {
   "cell_type": "code",
   "execution_count": 143,
   "metadata": {
    "collapsed": false
   },
   "outputs": [
    {
     "data": {
      "text/html": [
       "<iframe id=\"igraph\" scrolling=\"no\" style=\"border:none;\"seamless=\"seamless\" src=\"https://plot.ly/~corina.dima_tu/6.embed\" height=\"525px\" width=\"100%\"></iframe>"
      ],
      "text/plain": [
       "<plotly.tools.PlotlyDisplay object>"
      ]
     },
     "execution_count": 143,
     "metadata": {},
     "output_type": "execute_result"
    }
   ],
   "source": [
    "# plot rhyme pairs for Housman, concatenated\n",
    "data = [trace_housman_glove]\n",
    "layout = go.Layout(\n",
    "    title='Housman rhyme pairs, concatenated representations',\n",
    ")\n",
    "fig = go.Figure(data=data, layout=layout)\n",
    "py.iplot(fig, filename='housman-rhymes-concat')"
   ]
  },
  {
   "cell_type": "code",
   "execution_count": 136,
   "metadata": {
    "collapsed": false
   },
   "outputs": [
    {
     "data": {
      "text/html": [
       "<iframe id=\"igraph\" scrolling=\"no\" style=\"border:none;\"seamless=\"seamless\" src=\"https://plot.ly/~corina.dima_tu/8.embed\" height=\"525px\" width=\"100%\"></iframe>"
      ],
      "text/plain": [
       "<plotly.tools.PlotlyDisplay object>"
      ]
     },
     "execution_count": 136,
     "metadata": {},
     "output_type": "execute_result"
    }
   ],
   "source": [
    "# plot rhyme pairs for Shakespeare, concatenated\n",
    "data = [trace_shakespeare_glove]\n",
    "layout = go.Layout(\n",
    "    title='Shakespeare rhyme pairs, concatenated representations',\n",
    ")\n",
    "fig = go.Figure(data=data, layout=layout)\n",
    "py.iplot(fig, filename='shakespeare-rhymes-concat')"
   ]
  },
  {
   "cell_type": "code",
   "execution_count": 137,
   "metadata": {
    "collapsed": false
   },
   "outputs": [
    {
     "data": {
      "text/html": [
       "<iframe id=\"igraph\" scrolling=\"no\" style=\"border:none;\"seamless=\"seamless\" src=\"https://plot.ly/~corina.dima_tu/10.embed\" height=\"525px\" width=\"100%\"></iframe>"
      ],
      "text/plain": [
       "<plotly.tools.PlotlyDisplay object>"
      ]
     },
     "execution_count": 137,
     "metadata": {},
     "output_type": "execute_result"
    }
   ],
   "source": [
    "rhyme_glove_repr_tsne = tsne_word_repr[:positiveNo]\n",
    "random_glove_repr_tsne = tsne_word_repr[positiveNo:]\n",
    "rhyme_glove_labels = housman_glove_labels + shakespeare_glove_labels\n",
    "\n",
    "# Create a trace for the random examples\n",
    "trace_random_glove = go.Scattergl(\n",
    "    x = random_glove_repr_tsne[:,0],\n",
    "    y = random_glove_repr_tsne[:,1],\n",
    "    mode = 'markers',\n",
    "    marker = dict(\n",
    "        color = 'rgba(205, 13, 24, 0.8)',\n",
    "    ),      \n",
    "    text = random_glove_labels,\n",
    "    name = \"random words (GloVe,semantic)\",\n",
    ")\n",
    "\n",
    "# Create a trace for the rhyme word examples\n",
    "trace_rhyme_glove = go.Scattergl(\n",
    "    x = rhyme_glove_repr_tsne[:,0],\n",
    "    y = rhyme_glove_repr_tsne[:,1],\n",
    "    mode = 'markers',\n",
    "    marker = dict(\n",
    "        color = 'rgba(34, 148, 26, 0.8)',\n",
    "    ),      \n",
    "    text = rhyme_glove_labels,\n",
    "    name = \"rhyme words (GloVe,semantic)\",\n",
    ")\n",
    "\n",
    "# plot words from both authors together\n",
    "data = [trace_random_glove, trace_rhyme_glove]\n",
    "\n",
    "layout = go.Layout(\n",
    "    title='rhyme pairs vs. non-rhyme pairs, concatenated representations',\n",
    ")\n",
    "fig = go.Figure(data=data, layout=layout)\n",
    "py.iplot(fig, filename='rhyme-vs-non_rhyme-concat')\n"
   ]
  },
  {
   "cell_type": "code",
   "execution_count": 73,
   "metadata": {
    "collapsed": true
   },
   "outputs": [],
   "source": [
    "allWords_list = repr_dict.keys()\n",
    "allWords_repr = []\n",
    "for w in allWords_list:\n",
    "    allWords_repr.append(repr_dict[w])\n",
    "allWords_glove_repr = np.stack(allWords_repr)\n",
    "\n",
    "# create representations by element-wise addition instead of concatenation\n",
    "add_housman_glove_repr, add_housman_glove_labels = format_pairs(word_pairs_housman_glove, 'add')\n",
    "add_shakespeare_glove_repr, add_shakespeare_glove_labels = format_pairs(word_pairs_shakespeare_glove, 'add')\n"
   ]
  },
  {
   "cell_type": "code",
   "execution_count": 56,
   "metadata": {
    "collapsed": false
   },
   "outputs": [
    {
     "name": "stdout",
     "output_type": "stream",
     "text": [
      "(11482, 300)\n",
      "==> Running TSNE...\n",
      "[t-SNE] Computing pairwise distances...\n",
      "[t-SNE] Computing 91 nearest neighbors...\n",
      "[t-SNE] Computed conditional probabilities for sample 1000 / 11482\n",
      "[t-SNE] Computed conditional probabilities for sample 2000 / 11482\n",
      "[t-SNE] Computed conditional probabilities for sample 3000 / 11482\n",
      "[t-SNE] Computed conditional probabilities for sample 4000 / 11482\n",
      "[t-SNE] Computed conditional probabilities for sample 5000 / 11482\n",
      "[t-SNE] Computed conditional probabilities for sample 6000 / 11482\n",
      "[t-SNE] Computed conditional probabilities for sample 7000 / 11482\n",
      "[t-SNE] Computed conditional probabilities for sample 8000 / 11482\n",
      "[t-SNE] Computed conditional probabilities for sample 9000 / 11482\n",
      "[t-SNE] Computed conditional probabilities for sample 10000 / 11482\n",
      "[t-SNE] Computed conditional probabilities for sample 11000 / 11482\n",
      "[t-SNE] Computed conditional probabilities for sample 11482 / 11482\n",
      "[t-SNE] Mean sigma: 0.000000\n",
      "[t-SNE] Iteration 25: error = 1.2048553, gradient norm = 0.0003471\n",
      "[t-SNE] Iteration 25: gradient norm 0.000347. Finished.\n",
      "[t-SNE] Iteration 50: error = 1.1934800, gradient norm = 0.0033675\n",
      "[t-SNE] Iteration 75: error = 1.1865634, gradient norm = 0.0025874\n",
      "[t-SNE] Iteration 100: error = 1.1848743, gradient norm = 0.0024658\n",
      "[t-SNE] Error after 100 iterations with early exaggeration: 1.184874\n",
      "[t-SNE] Iteration 125: error = 1.1719866, gradient norm = 0.0017987\n",
      "[t-SNE] Iteration 150: error = 1.1671804, gradient norm = 0.0016563\n",
      "[t-SNE] Iteration 175: error = 1.1658915, gradient norm = 0.0016194\n",
      "[t-SNE] Iteration 200: error = 1.1655290, gradient norm = 0.0016064\n",
      "[t-SNE] Iteration 225: error = 1.1654298, gradient norm = 0.0016059\n",
      "[t-SNE] Iteration 250: error = 1.1654085, gradient norm = 0.0016057\n",
      "[t-SNE] Iteration 275: error = 1.1654009, gradient norm = 0.0016055\n",
      "[t-SNE] Iteration 275: error difference 0.000000. Finished.\n",
      "[t-SNE] Error after 275 iterations: 1.165401\n",
      "==> done.\n"
     ]
    }
   ],
   "source": [
    "# concatenate all representations and run tsne\n",
    "add_all_repr = np.concatenate((add_housman_glove_repr, add_shakespeare_glove_repr, allWords_glove_repr), axis=0)\n",
    "print(add_all_repr.shape)\n",
    "add_model = TSNE(n_components=2, random_state=0, verbose=2)\n",
    "np.set_printoptions(suppress=True)\n",
    "print(\"==> Running TSNE...\")\n",
    "add_tsne_word_repr = add_model.fit_transform(add_all_repr) \n",
    "print(\"==> done.\")\n"
   ]
  },
  {
   "cell_type": "code",
   "execution_count": 80,
   "metadata": {
    "collapsed": true
   },
   "outputs": [],
   "source": [
    "# pick out the housman from the shakespeare tsne representations\n",
    "rhyme_repr_len = len(add_housman_glove_labels) + len(add_shakespeare_glove_labels)\n",
    "add_housman_glove_repr_tsne = add_tsne_word_repr[:len(add_housman_glove_labels)]\n",
    "add_shakespeare_glove_repr_tsne = add_tsne_word_repr[len(add_housman_glove_labels):rhyme_repr_len]\n",
    "rhymeWords_add_glove_tsne = add_tsne_word_repr[:rhyme_repr_len]\n",
    "rhymeWords_add_glove_labels = add_housman_glove_labels + add_shakespeare_glove_labels\n",
    "allWords_repr_tsne = add_tsne_word_repr[rhyme_repr_len:]"
   ]
  },
  {
   "cell_type": "code",
   "execution_count": 113,
   "metadata": {
    "collapsed": false
   },
   "outputs": [],
   "source": [
    "# Create a trace for the Housman examples\n",
    "add_trace_housman_glove = go.Scattergl(\n",
    "    x = add_housman_glove_repr_tsne[:,0],\n",
    "    y = add_housman_glove_repr_tsne[:,1],\n",
    "    mode = 'markers',\n",
    "    marker = dict(\n",
    "        color = 'rgba(22, 96, 167, 0.8)',\n",
    "    ),  \n",
    "    text = add_housman_glove_labels,\n",
    "    name = \"Housman (GloVe,semantic)\",\n",
    ")\n",
    "\n",
    "# Create a trace for the Shakespeare examples\n",
    "add_trace_shakespeare_glove = go.Scattergl(\n",
    "    x = add_shakespeare_glove_repr_tsne[:,0],\n",
    "    y = add_shakespeare_glove_repr_tsne[:,1],\n",
    "    mode = 'markers',\n",
    "    marker = dict(\n",
    "        color = 'rgba(255, 106, 0, 0.8)',\n",
    "    ),  \n",
    "    text = add_shakespeare_glove_labels,\n",
    "    name = \"Shakespeare (GloVe,semantic)\",\n",
    ")\n",
    "\n",
    "# Create a trace for the simplex words\n",
    "trace_allWords_glove = go.Scattergl(\n",
    "    x = allWords_repr_tsne[:,0],\n",
    "    y = allWords_repr_tsne[:,1],\n",
    "#     mode = 'markers+text',\n",
    "    mode = 'markers',\n",
    "    marker = dict(\n",
    "        color = 'rgba(205, 13, 24, 0.8)',\n",
    "    ),      \n",
    "    text = allWords_list,\n",
    "    name = \"All words in S+H poems (GloVe,semantic)\",\n",
    "#     textposition='bottom',    \n",
    ")\n",
    "\n",
    "# Create a trace for the rhyme word pairs, added\n",
    "trace_rhymePairs_add_glove = go.Scattergl(\n",
    "    x = rhymeWords_add_glove_tsne[:,0],\n",
    "    y = rhymeWords_add_glove_tsne[:,1],\n",
    "#     mode = 'markers+text',\n",
    "    mode = 'markers',\n",
    "    marker = dict(\n",
    "        color = 'rgba(34, 148, 26, 0.8)',\n",
    "    ),      \n",
    "    text = rhymeWords_add_glove_labels,\n",
    "    name = \"Rhyme words in S+H poems (GloVe,semantic)\",\n",
    "#     textposition='bottom',    \n",
    ")"
   ]
  },
  {
   "cell_type": "code",
   "execution_count": 138,
   "metadata": {
    "collapsed": false
   },
   "outputs": [
    {
     "data": {
      "text/html": [
       "<iframe id=\"igraph\" scrolling=\"no\" style=\"border:none;\"seamless=\"seamless\" src=\"https://plot.ly/~corina.dima_tu/12.embed\" height=\"525px\" width=\"100%\"></iframe>"
      ],
      "text/plain": [
       "<plotly.tools.PlotlyDisplay object>"
      ]
     },
     "execution_count": 138,
     "metadata": {},
     "output_type": "execute_result"
    }
   ],
   "source": [
    "# plot rhyme words, added vs. simplex words from both authors\n",
    "add_data = [trace_allWords_glove, trace_rhymePairs_add_glove]\n",
    "add_layout = go.Layout(\n",
    "    title='Housman and Shakespeare rhyme pairs, added representations vs. all simplex words in their poems',\n",
    ")\n",
    "fig = go.Figure(data=add_data, layout=add_layout)\n",
    "py.iplot(fig, filename='rhyme_added-vs-simpex_words')"
   ]
  },
  {
   "cell_type": "code",
   "execution_count": 139,
   "metadata": {
    "collapsed": false
   },
   "outputs": [
    {
     "data": {
      "text/html": [
       "<iframe id=\"igraph\" scrolling=\"no\" style=\"border:none;\"seamless=\"seamless\" src=\"https://plot.ly/~corina.dima_tu/14.embed\" height=\"525px\" width=\"100%\"></iframe>"
      ],
      "text/plain": [
       "<plotly.tools.PlotlyDisplay object>"
      ]
     },
     "execution_count": 139,
     "metadata": {},
     "output_type": "execute_result"
    }
   ],
   "source": [
    "# plot words from both authors together\n",
    "add_data = [add_trace_housman_glove, add_trace_shakespeare_glove]\n",
    "# add_data = [add_trace_housman_glove]\n",
    "add_layout = go.Layout(\n",
    "    title='Housman and Shakespeare rhyme pairs, added representations',\n",
    ")\n",
    "fig = go.Figure(data=add_data, layout=add_layout)\n",
    "py.iplot(fig, filename='housman-shakespeare-rhymes-added')"
   ]
  },
  {
   "cell_type": "code",
   "execution_count": 142,
   "metadata": {
    "collapsed": false
   },
   "outputs": [
    {
     "data": {
      "text/html": [
       "<iframe id=\"igraph\" scrolling=\"no\" style=\"border:none;\"seamless=\"seamless\" src=\"https://plot.ly/~corina.dima_tu/16.embed\" height=\"525px\" width=\"100%\"></iframe>"
      ],
      "text/plain": [
       "<plotly.tools.PlotlyDisplay object>"
      ]
     },
     "execution_count": 142,
     "metadata": {},
     "output_type": "execute_result"
    }
   ],
   "source": [
    "# plot rhyme pairs from Housman, added representations\n",
    "add_data = [add_trace_housman_glove]\n",
    "add_layout = go.Layout(\n",
    "    title='Housman rhyme pairs, added representations',\n",
    ")\n",
    "fig = go.Figure(data=add_data, layout=add_layout)\n",
    "py.iplot(fig, filename='housman-rhymes-addeed')"
   ]
  },
  {
   "cell_type": "code",
   "execution_count": 144,
   "metadata": {
    "collapsed": false
   },
   "outputs": [
    {
     "data": {
      "text/html": [
       "<iframe id=\"igraph\" scrolling=\"no\" style=\"border:none;\"seamless=\"seamless\" src=\"https://plot.ly/~corina.dima_tu/18.embed\" height=\"525px\" width=\"100%\"></iframe>"
      ],
      "text/plain": [
       "<plotly.tools.PlotlyDisplay object>"
      ]
     },
     "execution_count": 144,
     "metadata": {},
     "output_type": "execute_result"
    }
   ],
   "source": [
    "# plot rhyme pairs from Shakespeare, added representations\n",
    "# Create a trace for the Shakespeare examples\n",
    "add_data = [add_trace_shakespeare_glove]\n",
    "add_layout = go.Layout(\n",
    "    title='Shakespeare rhyme pairs, added representations',\n",
    ")\n",
    "fig = go.Figure(data=add_data, layout=add_layout)\n",
    "py.iplot(fig, filename='shakespeare-rhymes-added')"
   ]
  },
  {
   "cell_type": "code",
   "execution_count": null,
   "metadata": {
    "collapsed": true
   },
   "outputs": [],
   "source": []
  }
 ],
 "metadata": {
  "kernelspec": {
   "display_name": "Python 2",
   "language": "python",
   "name": "python2"
  },
  "language_info": {
   "codemirror_mode": {
    "name": "ipython",
    "version": 2
   },
   "file_extension": ".py",
   "mimetype": "text/x-python",
   "name": "python",
   "nbconvert_exporter": "python",
   "pygments_lexer": "ipython2",
   "version": "2.7.11"
  }
 },
 "nbformat": 4,
 "nbformat_minor": 0
}
